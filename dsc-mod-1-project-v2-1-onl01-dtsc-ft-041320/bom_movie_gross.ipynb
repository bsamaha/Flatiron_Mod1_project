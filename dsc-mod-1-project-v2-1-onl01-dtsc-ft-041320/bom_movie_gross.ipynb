{
 "cells": [
  {
   "cell_type": "code",
   "execution_count": 2,
   "metadata": {},
   "outputs": [],
   "source": [
    "import gzip\n",
    "import pandas as pd\n",
    "import numpy as np\n",
    "import matplotlib.pyplot as plt\n",
    "\n",
    "\n",
    "\n"
   ]
  },
  {
   "cell_type": "code",
   "execution_count": 3,
   "metadata": {},
   "outputs": [
    {
     "data": {
      "text/html": [
       "<div>\n",
       "<style scoped>\n",
       "    .dataframe tbody tr th:only-of-type {\n",
       "        vertical-align: middle;\n",
       "    }\n",
       "\n",
       "    .dataframe tbody tr th {\n",
       "        vertical-align: top;\n",
       "    }\n",
       "\n",
       "    .dataframe thead th {\n",
       "        text-align: right;\n",
       "    }\n",
       "</style>\n",
       "<table border=\"1\" class=\"dataframe\">\n",
       "  <thead>\n",
       "    <tr style=\"text-align: right;\">\n",
       "      <th></th>\n",
       "      <th>title</th>\n",
       "      <th>studio</th>\n",
       "      <th>domestic_gross</th>\n",
       "      <th>foreign_gross</th>\n",
       "      <th>year</th>\n",
       "    </tr>\n",
       "  </thead>\n",
       "  <tbody>\n",
       "    <tr>\n",
       "      <td>0</td>\n",
       "      <td>Toy Story 3</td>\n",
       "      <td>BV</td>\n",
       "      <td>415000000.0</td>\n",
       "      <td>652000000</td>\n",
       "      <td>2010</td>\n",
       "    </tr>\n",
       "    <tr>\n",
       "      <td>1</td>\n",
       "      <td>Alice in Wonderland (2010)</td>\n",
       "      <td>BV</td>\n",
       "      <td>334200000.0</td>\n",
       "      <td>691300000</td>\n",
       "      <td>2010</td>\n",
       "    </tr>\n",
       "    <tr>\n",
       "      <td>2</td>\n",
       "      <td>Harry Potter and the Deathly Hallows Part 1</td>\n",
       "      <td>WB</td>\n",
       "      <td>296000000.0</td>\n",
       "      <td>664300000</td>\n",
       "      <td>2010</td>\n",
       "    </tr>\n",
       "    <tr>\n",
       "      <td>3</td>\n",
       "      <td>Inception</td>\n",
       "      <td>WB</td>\n",
       "      <td>292600000.0</td>\n",
       "      <td>535700000</td>\n",
       "      <td>2010</td>\n",
       "    </tr>\n",
       "    <tr>\n",
       "      <td>4</td>\n",
       "      <td>Shrek Forever After</td>\n",
       "      <td>P/DW</td>\n",
       "      <td>238700000.0</td>\n",
       "      <td>513900000</td>\n",
       "      <td>2010</td>\n",
       "    </tr>\n",
       "  </tbody>\n",
       "</table>\n",
       "</div>"
      ],
      "text/plain": [
       "                                         title studio  domestic_gross  \\\n",
       "0                                  Toy Story 3     BV     415000000.0   \n",
       "1                   Alice in Wonderland (2010)     BV     334200000.0   \n",
       "2  Harry Potter and the Deathly Hallows Part 1     WB     296000000.0   \n",
       "3                                    Inception     WB     292600000.0   \n",
       "4                          Shrek Forever After   P/DW     238700000.0   \n",
       "\n",
       "  foreign_gross  year  \n",
       "0     652000000  2010  \n",
       "1     691300000  2010  \n",
       "2     664300000  2010  \n",
       "3     535700000  2010  \n",
       "4     513900000  2010  "
      ]
     },
     "execution_count": 3,
     "metadata": {},
     "output_type": "execute_result"
    }
   ],
   "source": [
    "#read zip file into a dataframe\n",
    "movie_gross_df = pd.read_csv('zippedData/bom.movie_gross.csv.gz')\n",
    "movie_gross_df.head() #preview file\n"
   ]
  },
  {
   "cell_type": "code",
   "execution_count": 6,
   "metadata": {},
   "outputs": [
    {
     "name": "stdout",
     "output_type": "stream",
     "text": [
      "(3387, 5)\n"
     ]
    }
   ],
   "source": [
    "print(movie_gross_df.shape) #5 columns with 3387 records"
   ]
  },
  {
   "cell_type": "code",
   "execution_count": 7,
   "metadata": {},
   "outputs": [
    {
     "data": {
      "text/plain": [
       "Index(['title', 'studio', 'domestic_gross', 'foreign_gross', 'year'], dtype='object')"
      ]
     },
     "execution_count": 7,
     "metadata": {},
     "output_type": "execute_result"
    }
   ],
   "source": [
    "movie_gross_df.columns"
   ]
  },
  {
   "cell_type": "code",
   "execution_count": 8,
   "metadata": {
    "scrolled": true
   },
   "outputs": [
    {
     "data": {
      "text/plain": [
       "title                0\n",
       "studio               5\n",
       "domestic_gross      28\n",
       "foreign_gross     1350\n",
       "year                 0\n",
       "dtype: int64"
      ]
     },
     "execution_count": 8,
     "metadata": {},
     "output_type": "execute_result"
    }
   ],
   "source": [
    "movie_gross_df.isnull().sum()"
   ]
  },
  {
   "cell_type": "markdown",
   "metadata": {},
   "source": [
    "In this data there are 5 null studio values, 28 null domestic gross values, and the foerign_gross has 1350 null values out of a possible 3387 records.\n"
   ]
  },
  {
   "cell_type": "code",
   "execution_count": 11,
   "metadata": {},
   "outputs": [
    {
     "data": {
      "text/plain": [
       "Bluebeard                         2\n",
       "Beyond the Reach                  1\n",
       "Rare Exports: A Christmas Tale    1\n",
       "Another Happy Day                 1\n",
       "Remember You                      1\n",
       "                                 ..\n",
       "21 and Over                       1\n",
       "Shoplifters                       1\n",
       "Finding Dory                      1\n",
       "Elliot: The Littlest Reindeer     1\n",
       "Frozen                            1\n",
       "Name: title, Length: 3386, dtype: int64"
      ]
     },
     "execution_count": 11,
     "metadata": {},
     "output_type": "execute_result"
    }
   ],
   "source": [
    "movie_gross_df.title.value_counts()"
   ]
  },
  {
   "cell_type": "markdown",
   "metadata": {},
   "source": [
    "Bluebeard is the only title that appears more than once. However, I have not been able to see if there are similar, but different titles."
   ]
  },
  {
   "cell_type": "code",
   "execution_count": 50,
   "metadata": {},
   "outputs": [
    {
     "name": "stdout",
     "output_type": "stream",
     "text": [
      "['bv' 'wb' 'p/dw' 'sum.' 'par.' 'uni.' 'fox' 'wein.' 'sony' 'foxs' 'sgem'\n",
      " 'wb (nl)' 'lgf' 'mbox' 'cl' 'w/dim.' 'cbs' 'focus' 'mgm' 'over.' 'mira.'\n",
      " 'ifc' 'cj' 'nm' 'spc' 'parv' 'gold.' 'js' 'ratt.' 'magn.' 'free' '3d'\n",
      " 'utv' 'rela.' 'zeit.' 'anch.' 'pda' 'lorb.' 'app.' 'drft.' 'osci.' 'iw'\n",
      " 'rog.' nan 'eros' 'relbig.' 'viv.' 'hann.' 'strand' 'nge' 'scre.' 'kino'\n",
      " 'abr.' 'cz' 'ato' 'first' 'gk' 'find.' 'nfc' 'tfc' 'pala.' 'imag.' 'nav'\n",
      " 'arth.' 'cls' 'mont.' 'olive' 'cgld' 'foak' 'ivp' 'yash' 'icir' 'fm'\n",
      " 'vita.' 'wow' 'truly' 'indic.' 'fd' 'vari.' 'tris' 'orf' 'im' 'elev.'\n",
      " 'cohen' 'neoc' 'jan.' 'mne' 'trib.' 'rocket' 'omni/fsr' 'kkm' 'argo.'\n",
      " 'smod' 'libre' 'frun' 'whe' 'p4' 'kc' 'sd' 'am' 'mpft' 'icar.' 'agf'\n",
      " 'a23' 'da.' 'nyer' 'rialto' 'df' 'kl' 'alp' 'lg/s' 'wgusa' 'mpi' 'rtwc'\n",
      " 'fip' 'rf' 'arcent' 'paluni' 'epicpics' 'eone' 'ld' 'af' 'tfa' 'myr.'\n",
      " 'bm&dh' 'seg' 'palt' 'outs' 'outf' 'bsm' 'wamcr' 'pm&e' 'a24' 'cdgm.'\n",
      " 'distrib.' 'imax' 'ph' 'htr' 'els' 'pi' 'e1' 'tvc' 'fef' 'excl' 'msf'\n",
      " 'p/108' 'fcw' 'xl' 'shout!' 'sv' 'ce' 'vpd' 'ke' 'saban' 'cf&sr' 'triu'\n",
      " 'dr' 'crnth' 'ampl.' 'cp' 'proud' 'bgp' 'abk.' 'dla' 'b360' 'bwp' 'sea'\n",
      " 'rme' 'ks' 've' 'lgp' 'ec' 'fun' 'stx' 'ar' 'bg' 'pfr' 'bst' 'bh tilt'\n",
      " 'bsc' 'u/p' 'uhe' 'clf' 'fr' 'aaf' 'orch.' 'alc' 'pbs' 'sho' 'grav.'\n",
      " 'gathr' 'asp.' 'adc' 'rel.' 'sm' 'az' 'uep' 'itl' 'ta' 'mr' 'bbc'\n",
      " 'cfilms' 'part.' 'for' 'tafc' 'jbg' 'pnt' 'cinegalaxy' 'fathom' 'zee'\n",
      " 'men.' 'yfg' 'gaatri' 'mon' 'ghop' 'cleopatra' 'dreamwest' 'sds' 'linn'\n",
      " 'electric' 'jampa' 'hc' 'grtindia' 'neon' 'entmp' 'good deed' 'parc'\n",
      " 'aviron' 'annapurna' 'amazon' 'affirm' 'mom' 'orion' 'cfi' 'utmw'\n",
      " 'crimson' 'cavu' 'ef' 'arrow' 'hiber' 'studio 8' 'global road'\n",
      " 'trafalgar' 'greenwich' 'spanglish' 'blue fox' 'rlj' 'swen' 'packyourbag'\n",
      " 'gaum.' 'grindstone' 'conglomerate' 'mubi' 'darin southa' 'super'\n",
      " 'carusel' 'pdf' 'synergetic']\n"
     ]
    }
   ],
   "source": [
    "len(movie_gross_df.studio.unique()) \n",
    "\n",
    "movie_studios = movie_gross_df.studio.str.lower().unique()\n",
    "len(movie_studios) #258 studios\n",
    "print(movie_studios)\n",
    "\n",
    "    \n"
   ]
  },
  {
   "cell_type": "markdown",
   "metadata": {},
   "source": [
    "#### Studio Data\n",
    "\n",
    "there are 258 studios listed with no obvious mistakes. There may be some consolidation such as 'WB (NL)' can possibly be looked at as WB."
   ]
  },
  {
   "cell_type": "code",
   "execution_count": 53,
   "metadata": {},
   "outputs": [
    {
     "name": "stdout",
     "output_type": "stream",
     "text": [
      "2015    450\n",
      "2016    436\n",
      "2012    400\n",
      "2011    399\n",
      "2014    395\n",
      "2013    350\n",
      "2010    328\n",
      "2017    321\n",
      "2018    308\n",
      "Name: year, dtype: int64\n"
     ]
    }
   ],
   "source": [
    "print(movie_gross_df.year.value_counts())"
   ]
  },
  {
   "cell_type": "markdown",
   "metadata": {},
   "source": [
    "#### Year data\n",
    "\n",
    "Year data is clean and ranging from 2012-2018"
   ]
  },
  {
   "cell_type": "code",
   "execution_count": 7,
   "metadata": {},
   "outputs": [],
   "source": [
    "domestic_gross_nullRecords = movie_gross_df['domestic_gross'].loc[movie_gross_df['domestic_gross'].isnull() == True]\n",
    "#print(domestic_gross_nullRecords)\n",
    "#len(domestic_gross_nullRecords) # 28 null records\n",
    "\n",
    "domestic_gross_df = movie_gross_df.dropna(subset=['domestic_gross'])\n"
   ]
  },
  {
   "cell_type": "markdown",
   "metadata": {},
   "source": [
    "#### Domestic Gross data\n",
    "This data is prety clean and is showing only 28 missing values out of over 3000 records. These can/should be simply removed from the data set."
   ]
  },
  {
   "cell_type": "code",
   "execution_count": 8,
   "metadata": {},
   "outputs": [
    {
     "data": {
      "text/plain": [
       "title                0\n",
       "studio               3\n",
       "domestic_gross       0\n",
       "foreign_gross     1350\n",
       "year                 0\n",
       "dtype: int64"
      ]
     },
     "execution_count": 8,
     "metadata": {},
     "output_type": "execute_result"
    }
   ],
   "source": [
    "domestic_gross_df.isnull().sum()"
   ]
  },
  {
   "cell_type": "code",
   "execution_count": 13,
   "metadata": {},
   "outputs": [
    {
     "data": {
      "text/html": [
       "<div>\n",
       "<style scoped>\n",
       "    .dataframe tbody tr th:only-of-type {\n",
       "        vertical-align: middle;\n",
       "    }\n",
       "\n",
       "    .dataframe tbody tr th {\n",
       "        vertical-align: top;\n",
       "    }\n",
       "\n",
       "    .dataframe thead th {\n",
       "        text-align: right;\n",
       "    }\n",
       "</style>\n",
       "<table border=\"1\" class=\"dataframe\">\n",
       "  <thead>\n",
       "    <tr style=\"text-align: right;\">\n",
       "      <th></th>\n",
       "      <th>title</th>\n",
       "      <th>domestic_gross</th>\n",
       "      <th>year</th>\n",
       "    </tr>\n",
       "  </thead>\n",
       "  <tbody>\n",
       "    <tr>\n",
       "      <td>0</td>\n",
       "      <td>Toy Story 3</td>\n",
       "      <td>415000000.0</td>\n",
       "      <td>2010</td>\n",
       "    </tr>\n",
       "    <tr>\n",
       "      <td>1</td>\n",
       "      <td>Alice in Wonderland (2010)</td>\n",
       "      <td>334200000.0</td>\n",
       "      <td>2010</td>\n",
       "    </tr>\n",
       "    <tr>\n",
       "      <td>2</td>\n",
       "      <td>Harry Potter and the Deathly Hallows Part 1</td>\n",
       "      <td>296000000.0</td>\n",
       "      <td>2010</td>\n",
       "    </tr>\n",
       "    <tr>\n",
       "      <td>3</td>\n",
       "      <td>Inception</td>\n",
       "      <td>292600000.0</td>\n",
       "      <td>2010</td>\n",
       "    </tr>\n",
       "    <tr>\n",
       "      <td>4</td>\n",
       "      <td>Shrek Forever After</td>\n",
       "      <td>238700000.0</td>\n",
       "      <td>2010</td>\n",
       "    </tr>\n",
       "  </tbody>\n",
       "</table>\n",
       "</div>"
      ],
      "text/plain": [
       "                                         title  domestic_gross  year\n",
       "0                                  Toy Story 3     415000000.0  2010\n",
       "1                   Alice in Wonderland (2010)     334200000.0  2010\n",
       "2  Harry Potter and the Deathly Hallows Part 1     296000000.0  2010\n",
       "3                                    Inception     292600000.0  2010\n",
       "4                          Shrek Forever After     238700000.0  2010"
      ]
     },
     "execution_count": 13,
     "metadata": {},
     "output_type": "execute_result"
    }
   ],
   "source": [
    "domestic_gross_minuscolumns_df = domestic_gross_df.drop(columns= ['foreign_gross','studio'])\n",
    "domestic_gross_minuscolumns_df.head()"
   ]
  },
  {
   "cell_type": "code",
   "execution_count": null,
   "metadata": {},
   "outputs": [],
   "source": []
  }
 ],
 "metadata": {
  "kernelspec": {
   "display_name": "learn-env",
   "language": "python",
   "name": "learn-env"
  },
  "language_info": {
   "codemirror_mode": {
    "name": "ipython",
    "version": 3
   },
   "file_extension": ".py",
   "mimetype": "text/x-python",
   "name": "python",
   "nbconvert_exporter": "python",
   "pygments_lexer": "ipython3",
   "version": "3.6.9"
  }
 },
 "nbformat": 4,
 "nbformat_minor": 2
}
