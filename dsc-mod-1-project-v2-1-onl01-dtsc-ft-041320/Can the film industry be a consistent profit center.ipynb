{
 "cells": [
  {
   "cell_type": "markdown",
   "metadata": {},
   "source": [
    "# Can the film industry be a consistent profit center?\n"
   ]
  },
  {
   "cell_type": "markdown",
   "metadata": {},
   "source": [
    "### Header Files"
   ]
  },
  {
   "cell_type": "code",
   "execution_count": 1,
   "metadata": {},
   "outputs": [],
   "source": [
    "import gzip\n",
    "import pandas as pd\n",
    "import numpy as np\n",
    "import matplotlib.pyplot as plt\n",
    "import matplotlib\n",
    "import datetime\n",
    "import seaborn as sns\n",
    "import string\n",
    "%matplotlib inline"
   ]
  },
  {
   "cell_type": "code",
   "execution_count": 2,
   "metadata": {},
   "outputs": [
    {
     "data": {
      "text/plain": [
       "'3.2.1'"
      ]
     },
     "execution_count": 2,
     "metadata": {},
     "output_type": "execute_result"
    }
   ],
   "source": [
    "matplotlib.__version__"
   ]
  },
  {
   "cell_type": "markdown",
   "metadata": {},
   "source": [
    "### Reading in the cleaned data "
   ]
  },
  {
   "cell_type": "code",
   "execution_count": 3,
   "metadata": {},
   "outputs": [
    {
     "name": "stdout",
     "output_type": "stream",
     "text": [
      "(5782, 8)\n",
      "<class 'pandas.core.frame.DataFrame'>\n",
      "RangeIndex: 5782 entries, 0 to 5781\n",
      "Data columns (total 8 columns):\n",
      "id                   5782 non-null int64\n",
      "release_date         5782 non-null object\n",
      "movie                5782 non-null object\n",
      "production_budget    5782 non-null int64\n",
      "domestic_gross       5782 non-null int64\n",
      "genres               2351 non-null object\n",
      "tconst               2376 non-null object\n",
      "runtime              2196 non-null float64\n",
      "dtypes: float64(1), int64(3), object(4)\n",
      "memory usage: 361.5+ KB\n"
     ]
    },
    {
     "data": {
      "text/html": [
       "<div>\n",
       "<style scoped>\n",
       "    .dataframe tbody tr th:only-of-type {\n",
       "        vertical-align: middle;\n",
       "    }\n",
       "\n",
       "    .dataframe tbody tr th {\n",
       "        vertical-align: top;\n",
       "    }\n",
       "\n",
       "    .dataframe thead th {\n",
       "        text-align: right;\n",
       "    }\n",
       "</style>\n",
       "<table border=\"1\" class=\"dataframe\">\n",
       "  <thead>\n",
       "    <tr style=\"text-align: right;\">\n",
       "      <th></th>\n",
       "      <th>id</th>\n",
       "      <th>release_date</th>\n",
       "      <th>movie</th>\n",
       "      <th>production_budget</th>\n",
       "      <th>domestic_gross</th>\n",
       "      <th>genres</th>\n",
       "      <th>tconst</th>\n",
       "      <th>runtime</th>\n",
       "    </tr>\n",
       "  </thead>\n",
       "  <tbody>\n",
       "    <tr>\n",
       "      <th>0</th>\n",
       "      <td>1</td>\n",
       "      <td>2009-12-18</td>\n",
       "      <td>Avatar</td>\n",
       "      <td>425000000</td>\n",
       "      <td>760507625</td>\n",
       "      <td>Horror</td>\n",
       "      <td>tt1775309</td>\n",
       "      <td>93.0</td>\n",
       "    </tr>\n",
       "    <tr>\n",
       "      <th>1</th>\n",
       "      <td>2</td>\n",
       "      <td>2011-05-20</td>\n",
       "      <td>Pirates of the Caribbean: On Stranger Tides</td>\n",
       "      <td>410600000</td>\n",
       "      <td>241063875</td>\n",
       "      <td>Action,Adventure,Fantasy</td>\n",
       "      <td>tt1298650</td>\n",
       "      <td>136.0</td>\n",
       "    </tr>\n",
       "    <tr>\n",
       "      <th>2</th>\n",
       "      <td>3</td>\n",
       "      <td>2019-06-07</td>\n",
       "      <td>Dark Phoenix</td>\n",
       "      <td>350000000</td>\n",
       "      <td>42762350</td>\n",
       "      <td>Action,Adventure,Sci-Fi</td>\n",
       "      <td>tt6565702</td>\n",
       "      <td>113.0</td>\n",
       "    </tr>\n",
       "    <tr>\n",
       "      <th>3</th>\n",
       "      <td>4</td>\n",
       "      <td>2015-05-01</td>\n",
       "      <td>Avengers: Age of Ultron</td>\n",
       "      <td>330600000</td>\n",
       "      <td>459005868</td>\n",
       "      <td>Action,Adventure,Sci-Fi</td>\n",
       "      <td>tt2395427</td>\n",
       "      <td>141.0</td>\n",
       "    </tr>\n",
       "    <tr>\n",
       "      <th>4</th>\n",
       "      <td>5</td>\n",
       "      <td>2017-12-15</td>\n",
       "      <td>Star Wars Ep. VIII: The Last Jedi</td>\n",
       "      <td>317000000</td>\n",
       "      <td>620181382</td>\n",
       "      <td>NaN</td>\n",
       "      <td>NaN</td>\n",
       "      <td>NaN</td>\n",
       "    </tr>\n",
       "  </tbody>\n",
       "</table>\n",
       "</div>"
      ],
      "text/plain": [
       "   id release_date                                        movie  \\\n",
       "0   1   2009-12-18                                       Avatar   \n",
       "1   2   2011-05-20  Pirates of the Caribbean: On Stranger Tides   \n",
       "2   3   2019-06-07                                 Dark Phoenix   \n",
       "3   4   2015-05-01                      Avengers: Age of Ultron   \n",
       "4   5   2017-12-15            Star Wars Ep. VIII: The Last Jedi   \n",
       "\n",
       "   production_budget  domestic_gross                    genres     tconst  \\\n",
       "0          425000000       760507625                    Horror  tt1775309   \n",
       "1          410600000       241063875  Action,Adventure,Fantasy  tt1298650   \n",
       "2          350000000        42762350   Action,Adventure,Sci-Fi  tt6565702   \n",
       "3          330600000       459005868   Action,Adventure,Sci-Fi  tt2395427   \n",
       "4          317000000       620181382                       NaN        NaN   \n",
       "\n",
       "   runtime  \n",
       "0     93.0  \n",
       "1    136.0  \n",
       "2    113.0  \n",
       "3    141.0  \n",
       "4      NaN  "
      ]
     },
     "execution_count": 3,
     "metadata": {},
     "output_type": "execute_result"
    }
   ],
   "source": [
    "df = pd.read_csv('group_data.csv') #our cleaned dataframe\n",
    "df.drop(columns='Unnamed: 0',inplace=True) #drop index column that shouldnt be there\n",
    "print(df.shape) #print shape of data frame\n",
    "df.info()\n",
    "df.head() #preview file"
   ]
  },
  {
   "cell_type": "markdown",
   "metadata": {},
   "source": [
    "#### Reading in the cleaned data summary\n",
    "The cleaned CSV has been imported to begin analysis with. The data has 5782 records and 8 columns. All data types seem to match up with the dataframe except for release date column which should be in datetime.\n",
    "\n",
    "For steps on how data was cleaned please see the  \"Data Cleaning Steps Notebook\"."
   ]
  },
  {
   "cell_type": "markdown",
   "metadata": {},
   "source": [
    "### Investigating the data"
   ]
  },
  {
   "cell_type": "code",
   "execution_count": 4,
   "metadata": {
    "scrolled": true
   },
   "outputs": [
    {
     "name": "stdout",
     "output_type": "stream",
     "text": [
      "<class 'pandas.core.frame.DataFrame'>\n",
      "RangeIndex: 5782 entries, 0 to 5781\n",
      "Data columns (total 8 columns):\n",
      "id                   5782 non-null int64\n",
      "release_date         5782 non-null datetime64[ns]\n",
      "movie                5782 non-null object\n",
      "production_budget    5782 non-null int64\n",
      "domestic_gross       5782 non-null int64\n",
      "genres               2351 non-null object\n",
      "tconst               2376 non-null object\n",
      "runtime              2196 non-null float64\n",
      "dtypes: datetime64[ns](1), float64(1), int64(3), object(3)\n",
      "memory usage: 361.5+ KB\n"
     ]
    }
   ],
   "source": [
    "df['release_date'] =  pd.to_datetime(df['release_date'], infer_datetime_format=True) #convert to datetime data type\n",
    "df.info()"
   ]
  },
  {
   "cell_type": "markdown",
   "metadata": {},
   "source": [
    "We have now fixed the data type for the release_date column and everything looks good"
   ]
  },
  {
   "cell_type": "code",
   "execution_count": 5,
   "metadata": {},
   "outputs": [
    {
     "data": {
      "text/html": [
       "<div>\n",
       "<style scoped>\n",
       "    .dataframe tbody tr th:only-of-type {\n",
       "        vertical-align: middle;\n",
       "    }\n",
       "\n",
       "    .dataframe tbody tr th {\n",
       "        vertical-align: top;\n",
       "    }\n",
       "\n",
       "    .dataframe thead th {\n",
       "        text-align: right;\n",
       "    }\n",
       "</style>\n",
       "<table border=\"1\" class=\"dataframe\">\n",
       "  <thead>\n",
       "    <tr style=\"text-align: right;\">\n",
       "      <th></th>\n",
       "      <th>id</th>\n",
       "      <th>release_date</th>\n",
       "      <th>movie</th>\n",
       "      <th>production_budget</th>\n",
       "      <th>domestic_gross</th>\n",
       "      <th>genres</th>\n",
       "      <th>tconst</th>\n",
       "      <th>runtime</th>\n",
       "      <th>domestic_gross_in_millions</th>\n",
       "      <th>profit</th>\n",
       "      <th>profit_in_millions</th>\n",
       "      <th>year_released</th>\n",
       "      <th>return_on_investment</th>\n",
       "      <th>production_budget_in_millions</th>\n",
       "    </tr>\n",
       "  </thead>\n",
       "  <tbody>\n",
       "    <tr>\n",
       "      <th>0</th>\n",
       "      <td>1</td>\n",
       "      <td>2009-12-18</td>\n",
       "      <td>Avatar</td>\n",
       "      <td>425000000</td>\n",
       "      <td>760507625</td>\n",
       "      <td>Horror</td>\n",
       "      <td>tt1775309</td>\n",
       "      <td>93.0</td>\n",
       "      <td>760.507625</td>\n",
       "      <td>335507625</td>\n",
       "      <td>335.507625</td>\n",
       "      <td>2009</td>\n",
       "      <td>1.789</td>\n",
       "      <td>425.0</td>\n",
       "    </tr>\n",
       "    <tr>\n",
       "      <th>1</th>\n",
       "      <td>2</td>\n",
       "      <td>2011-05-20</td>\n",
       "      <td>Pirates of the Caribbean: On Stranger Tides</td>\n",
       "      <td>410600000</td>\n",
       "      <td>241063875</td>\n",
       "      <td>Action,Adventure,Fantasy</td>\n",
       "      <td>tt1298650</td>\n",
       "      <td>136.0</td>\n",
       "      <td>241.063875</td>\n",
       "      <td>-169536125</td>\n",
       "      <td>-169.536125</td>\n",
       "      <td>2011</td>\n",
       "      <td>0.587</td>\n",
       "      <td>410.6</td>\n",
       "    </tr>\n",
       "    <tr>\n",
       "      <th>2</th>\n",
       "      <td>3</td>\n",
       "      <td>2019-06-07</td>\n",
       "      <td>Dark Phoenix</td>\n",
       "      <td>350000000</td>\n",
       "      <td>42762350</td>\n",
       "      <td>Action,Adventure,Sci-Fi</td>\n",
       "      <td>tt6565702</td>\n",
       "      <td>113.0</td>\n",
       "      <td>42.762350</td>\n",
       "      <td>-307237650</td>\n",
       "      <td>-307.237650</td>\n",
       "      <td>2019</td>\n",
       "      <td>0.122</td>\n",
       "      <td>350.0</td>\n",
       "    </tr>\n",
       "    <tr>\n",
       "      <th>3</th>\n",
       "      <td>4</td>\n",
       "      <td>2015-05-01</td>\n",
       "      <td>Avengers: Age of Ultron</td>\n",
       "      <td>330600000</td>\n",
       "      <td>459005868</td>\n",
       "      <td>Action,Adventure,Sci-Fi</td>\n",
       "      <td>tt2395427</td>\n",
       "      <td>141.0</td>\n",
       "      <td>459.005868</td>\n",
       "      <td>128405868</td>\n",
       "      <td>128.405868</td>\n",
       "      <td>2015</td>\n",
       "      <td>1.388</td>\n",
       "      <td>330.6</td>\n",
       "    </tr>\n",
       "    <tr>\n",
       "      <th>4</th>\n",
       "      <td>5</td>\n",
       "      <td>2017-12-15</td>\n",
       "      <td>Star Wars Ep. VIII: The Last Jedi</td>\n",
       "      <td>317000000</td>\n",
       "      <td>620181382</td>\n",
       "      <td>NaN</td>\n",
       "      <td>NaN</td>\n",
       "      <td>NaN</td>\n",
       "      <td>620.181382</td>\n",
       "      <td>303181382</td>\n",
       "      <td>303.181382</td>\n",
       "      <td>2017</td>\n",
       "      <td>1.956</td>\n",
       "      <td>317.0</td>\n",
       "    </tr>\n",
       "  </tbody>\n",
       "</table>\n",
       "</div>"
      ],
      "text/plain": [
       "   id release_date                                        movie  \\\n",
       "0   1   2009-12-18                                       Avatar   \n",
       "1   2   2011-05-20  Pirates of the Caribbean: On Stranger Tides   \n",
       "2   3   2019-06-07                                 Dark Phoenix   \n",
       "3   4   2015-05-01                      Avengers: Age of Ultron   \n",
       "4   5   2017-12-15            Star Wars Ep. VIII: The Last Jedi   \n",
       "\n",
       "   production_budget  domestic_gross                    genres     tconst  \\\n",
       "0          425000000       760507625                    Horror  tt1775309   \n",
       "1          410600000       241063875  Action,Adventure,Fantasy  tt1298650   \n",
       "2          350000000        42762350   Action,Adventure,Sci-Fi  tt6565702   \n",
       "3          330600000       459005868   Action,Adventure,Sci-Fi  tt2395427   \n",
       "4          317000000       620181382                       NaN        NaN   \n",
       "\n",
       "   runtime  domestic_gross_in_millions     profit  profit_in_millions  \\\n",
       "0     93.0                  760.507625  335507625          335.507625   \n",
       "1    136.0                  241.063875 -169536125         -169.536125   \n",
       "2    113.0                   42.762350 -307237650         -307.237650   \n",
       "3    141.0                  459.005868  128405868          128.405868   \n",
       "4      NaN                  620.181382  303181382          303.181382   \n",
       "\n",
       "   year_released  return_on_investment  production_budget_in_millions  \n",
       "0           2009                 1.789                          425.0  \n",
       "1           2011                 0.587                          410.6  \n",
       "2           2019                 0.122                          350.0  \n",
       "3           2015                 1.388                          330.6  \n",
       "4           2017                 1.956                          317.0  "
      ]
     },
     "execution_count": 5,
     "metadata": {},
     "output_type": "execute_result"
    }
   ],
   "source": [
    "df['domestic_gross_in_millions'] = df['domestic_gross'] / 10**6      # changing units from dollars to millions of dollars\n",
    "df['profit'] = df['domestic_gross'] - df['production_budget']        # income - expense = profit\n",
    "df['profit_in_millions'] = df['profit'] / 10**6                      # changing units from dollars to millions of dollars\n",
    "df['year_released'] = df['release_date'].dt.year                     # creating the year_released column\n",
    "df['return_on_investment'] = round(df['domestic_gross']/df['production_budget'],3) # ratio of income to money sunk in project\n",
    "df['production_budget_in_millions'] = df['production_budget'] / 10**6 #changing units from dollars to millions of dollars\n",
    "df.head()"
   ]
  },
  {
   "cell_type": "markdown",
   "metadata": {},
   "source": [
    "#### Data Frame Manipulation"
   ]
  },
  {
   "cell_type": "markdown",
   "metadata": {},
   "source": [
    "Here we begin to add rows that will be valuable information to analyze later on. The production_budget and domestic_gross numbers are quite large so it may be easier to digest these numbers in terms of millions of dollars. We also create a column with the year released so that we may begin to do some time series analysis later on.\n",
    "\n",
    "I have also added some columns that produce profitability metrics such as profit_in_millions and return_on_investment. These are important because we want to advise our client to make smart decisions with their money. No one is in the business of losing money."
   ]
  },
  {
   "cell_type": "markdown",
   "metadata": {},
   "source": [
    "#### Filtering Data"
   ]
  },
  {
   "cell_type": "markdown",
   "metadata": {},
   "source": [
    "New technology is coming out everyday. With the creation of netflix in 1997 and the increased internet speed and bandwith the way we consume film media has changed dramatically. While historical data is very important, for this business case we have decided to only go back to the year 2000. We have also decided to remove any films that were not released as of January 1, 2020 as it may not have complete data, or the film might not have been released yet."
   ]
  },
  {
   "cell_type": "code",
   "execution_count": 6,
   "metadata": {},
   "outputs": [],
   "source": [
    "df = df.loc[(df['release_date'] >= '2000-01-01') & (df['year_released'] < 2020)]  \n",
    "#filtering out for the data desired as stated in our business case"
   ]
  },
  {
   "cell_type": "markdown",
   "metadata": {},
   "source": [
    "### What are the profitability trends in the movie industry?"
   ]
  },
  {
   "cell_type": "markdown",
   "metadata": {},
   "source": [
    "Here we will evaluate questions such as:\n",
    "1. Are movies making more or less profit since 2000?\n",
    "2. Are movies getting more expensive to make since 2000?\n",
    "3. Does spending more money on production increase your chances of being profitable?\n",
    "\n",
    "The intent of these questions are to provide an insight if the movie industry is thriving or failing. We want our clients to make the smartest decisions. We are looking to see if \"an ounce of prevention equals a pound of cure\". If we can inform our clients that entering the movie business will not only be a waste of time, but also a waste of resources not beginning down that path is the smartest choice to make.\n",
    "\n"
   ]
  },
  {
   "cell_type": "markdown",
   "metadata": {},
   "source": [
    "#### Profitability Trends Question 1\n",
    "\n",
    "Q: Are movies making more or less profit since 2000?"
   ]
  },
  {
   "cell_type": "code",
   "execution_count": 7,
   "metadata": {},
   "outputs": [],
   "source": [
    "annual_totals_df = df.groupby(['year_released'])['movie'].count() #indexing by tear and adding a column with movie count\n",
    "\n",
    "annual_totals_df = annual_totals_df.to_frame() #pandas series to dataframe to build off of\n",
    "\n",
    "annual_totals_df.rename(columns={\"movie\": \"movie_count\"},inplace=True)\n",
    "\n",
    "annual_totals_df['ticket_sales_in_millions'] = df.groupby(df['year_released'])['domestic_gross_in_millions'].sum().apply(lambda x: round(x,3))\n",
    "\n",
    "annual_totals_df['production_budget_in_millions'] = df.groupby(df['year_released'])['production_budget_in_millions'].sum().apply(lambda x: round(x,3))\n",
    "\n",
    "annual_totals_df['profit_in_millions'] = annual_totals_df['ticket_sales_in_millions'] - annual_totals_df['production_budget_in_millions']\n",
    "\n",
    "annual_totals_df['return_on_investment_%'] = ((annual_totals_df['profit_in_millions'] / annual_totals_df['production_budget_in_millions']).apply(lambda x: x*100))\n"
   ]
  },
  {
   "cell_type": "code",
   "execution_count": 8,
   "metadata": {
    "scrolled": true
   },
   "outputs": [
    {
     "data": {
      "text/html": [
       "<div>\n",
       "<style scoped>\n",
       "    .dataframe tbody tr th:only-of-type {\n",
       "        vertical-align: middle;\n",
       "    }\n",
       "\n",
       "    .dataframe tbody tr th {\n",
       "        vertical-align: top;\n",
       "    }\n",
       "\n",
       "    .dataframe thead th {\n",
       "        text-align: right;\n",
       "    }\n",
       "</style>\n",
       "<table border=\"1\" class=\"dataframe\">\n",
       "  <thead>\n",
       "    <tr style=\"text-align: right;\">\n",
       "      <th></th>\n",
       "      <th>movie_count</th>\n",
       "      <th>ticket_sales_in_millions</th>\n",
       "      <th>production_budget_in_millions</th>\n",
       "      <th>profit_in_millions</th>\n",
       "      <th>return_on_investment_%</th>\n",
       "    </tr>\n",
       "    <tr>\n",
       "      <th>year_released</th>\n",
       "      <th></th>\n",
       "      <th></th>\n",
       "      <th></th>\n",
       "      <th></th>\n",
       "      <th></th>\n",
       "    </tr>\n",
       "  </thead>\n",
       "  <tbody>\n",
       "    <tr>\n",
       "      <th>2000</th>\n",
       "      <td>189</td>\n",
       "      <td>7413.773</td>\n",
       "      <td>5890.738</td>\n",
       "      <td>1523.035</td>\n",
       "      <td>25.854740</td>\n",
       "    </tr>\n",
       "    <tr>\n",
       "      <th>2001</th>\n",
       "      <td>181</td>\n",
       "      <td>7909.169</td>\n",
       "      <td>5888.770</td>\n",
       "      <td>2020.399</td>\n",
       "      <td>34.309355</td>\n",
       "    </tr>\n",
       "    <tr>\n",
       "      <th>2002</th>\n",
       "      <td>210</td>\n",
       "      <td>8785.468</td>\n",
       "      <td>6555.038</td>\n",
       "      <td>2230.430</td>\n",
       "      <td>34.026195</td>\n",
       "    </tr>\n",
       "    <tr>\n",
       "      <th>2003</th>\n",
       "      <td>201</td>\n",
       "      <td>8405.310</td>\n",
       "      <td>6486.168</td>\n",
       "      <td>1919.142</td>\n",
       "      <td>29.588225</td>\n",
       "    </tr>\n",
       "    <tr>\n",
       "      <th>2004</th>\n",
       "      <td>206</td>\n",
       "      <td>9090.879</td>\n",
       "      <td>7268.302</td>\n",
       "      <td>1822.577</td>\n",
       "      <td>25.075692</td>\n",
       "    </tr>\n",
       "    <tr>\n",
       "      <th>2005</th>\n",
       "      <td>223</td>\n",
       "      <td>8347.394</td>\n",
       "      <td>7443.094</td>\n",
       "      <td>904.300</td>\n",
       "      <td>12.149517</td>\n",
       "    </tr>\n",
       "    <tr>\n",
       "      <th>2006</th>\n",
       "      <td>260</td>\n",
       "      <td>8679.953</td>\n",
       "      <td>7492.669</td>\n",
       "      <td>1187.284</td>\n",
       "      <td>15.845942</td>\n",
       "    </tr>\n",
       "    <tr>\n",
       "      <th>2007</th>\n",
       "      <td>220</td>\n",
       "      <td>8272.330</td>\n",
       "      <td>7319.501</td>\n",
       "      <td>952.829</td>\n",
       "      <td>13.017677</td>\n",
       "    </tr>\n",
       "    <tr>\n",
       "      <th>2008</th>\n",
       "      <td>264</td>\n",
       "      <td>9352.193</td>\n",
       "      <td>8377.547</td>\n",
       "      <td>974.646</td>\n",
       "      <td>11.634026</td>\n",
       "    </tr>\n",
       "    <tr>\n",
       "      <th>2009</th>\n",
       "      <td>239</td>\n",
       "      <td>10474.763</td>\n",
       "      <td>8511.345</td>\n",
       "      <td>1963.418</td>\n",
       "      <td>23.068246</td>\n",
       "    </tr>\n",
       "    <tr>\n",
       "      <th>2010</th>\n",
       "      <td>274</td>\n",
       "      <td>10019.169</td>\n",
       "      <td>9141.606</td>\n",
       "      <td>877.563</td>\n",
       "      <td>9.599659</td>\n",
       "    </tr>\n",
       "    <tr>\n",
       "      <th>2011</th>\n",
       "      <td>254</td>\n",
       "      <td>9795.456</td>\n",
       "      <td>8952.952</td>\n",
       "      <td>842.504</td>\n",
       "      <td>9.410349</td>\n",
       "    </tr>\n",
       "    <tr>\n",
       "      <th>2012</th>\n",
       "      <td>235</td>\n",
       "      <td>10525.775</td>\n",
       "      <td>8487.135</td>\n",
       "      <td>2038.640</td>\n",
       "      <td>24.020356</td>\n",
       "    </tr>\n",
       "    <tr>\n",
       "      <th>2013</th>\n",
       "      <td>238</td>\n",
       "      <td>10668.033</td>\n",
       "      <td>8899.387</td>\n",
       "      <td>1768.646</td>\n",
       "      <td>19.873796</td>\n",
       "    </tr>\n",
       "    <tr>\n",
       "      <th>2014</th>\n",
       "      <td>255</td>\n",
       "      <td>10062.193</td>\n",
       "      <td>7753.407</td>\n",
       "      <td>2308.786</td>\n",
       "      <td>29.777696</td>\n",
       "    </tr>\n",
       "    <tr>\n",
       "      <th>2015</th>\n",
       "      <td>338</td>\n",
       "      <td>10795.544</td>\n",
       "      <td>8842.179</td>\n",
       "      <td>1953.365</td>\n",
       "      <td>22.091444</td>\n",
       "    </tr>\n",
       "    <tr>\n",
       "      <th>2016</th>\n",
       "      <td>219</td>\n",
       "      <td>11042.828</td>\n",
       "      <td>8973.240</td>\n",
       "      <td>2069.588</td>\n",
       "      <td>23.063999</td>\n",
       "    </tr>\n",
       "    <tr>\n",
       "      <th>2017</th>\n",
       "      <td>168</td>\n",
       "      <td>10453.395</td>\n",
       "      <td>8405.163</td>\n",
       "      <td>2048.232</td>\n",
       "      <td>24.368736</td>\n",
       "    </tr>\n",
       "    <tr>\n",
       "      <th>2018</th>\n",
       "      <td>143</td>\n",
       "      <td>10551.784</td>\n",
       "      <td>6883.857</td>\n",
       "      <td>3667.927</td>\n",
       "      <td>53.283021</td>\n",
       "    </tr>\n",
       "    <tr>\n",
       "      <th>2019</th>\n",
       "      <td>67</td>\n",
       "      <td>2867.619</td>\n",
       "      <td>3533.510</td>\n",
       "      <td>-665.891</td>\n",
       "      <td>-18.845029</td>\n",
       "    </tr>\n",
       "  </tbody>\n",
       "</table>\n",
       "</div>"
      ],
      "text/plain": [
       "               movie_count  ticket_sales_in_millions  \\\n",
       "year_released                                          \n",
       "2000                   189                  7413.773   \n",
       "2001                   181                  7909.169   \n",
       "2002                   210                  8785.468   \n",
       "2003                   201                  8405.310   \n",
       "2004                   206                  9090.879   \n",
       "2005                   223                  8347.394   \n",
       "2006                   260                  8679.953   \n",
       "2007                   220                  8272.330   \n",
       "2008                   264                  9352.193   \n",
       "2009                   239                 10474.763   \n",
       "2010                   274                 10019.169   \n",
       "2011                   254                  9795.456   \n",
       "2012                   235                 10525.775   \n",
       "2013                   238                 10668.033   \n",
       "2014                   255                 10062.193   \n",
       "2015                   338                 10795.544   \n",
       "2016                   219                 11042.828   \n",
       "2017                   168                 10453.395   \n",
       "2018                   143                 10551.784   \n",
       "2019                    67                  2867.619   \n",
       "\n",
       "               production_budget_in_millions  profit_in_millions  \\\n",
       "year_released                                                      \n",
       "2000                                5890.738            1523.035   \n",
       "2001                                5888.770            2020.399   \n",
       "2002                                6555.038            2230.430   \n",
       "2003                                6486.168            1919.142   \n",
       "2004                                7268.302            1822.577   \n",
       "2005                                7443.094             904.300   \n",
       "2006                                7492.669            1187.284   \n",
       "2007                                7319.501             952.829   \n",
       "2008                                8377.547             974.646   \n",
       "2009                                8511.345            1963.418   \n",
       "2010                                9141.606             877.563   \n",
       "2011                                8952.952             842.504   \n",
       "2012                                8487.135            2038.640   \n",
       "2013                                8899.387            1768.646   \n",
       "2014                                7753.407            2308.786   \n",
       "2015                                8842.179            1953.365   \n",
       "2016                                8973.240            2069.588   \n",
       "2017                                8405.163            2048.232   \n",
       "2018                                6883.857            3667.927   \n",
       "2019                                3533.510            -665.891   \n",
       "\n",
       "               return_on_investment_%  \n",
       "year_released                          \n",
       "2000                        25.854740  \n",
       "2001                        34.309355  \n",
       "2002                        34.026195  \n",
       "2003                        29.588225  \n",
       "2004                        25.075692  \n",
       "2005                        12.149517  \n",
       "2006                        15.845942  \n",
       "2007                        13.017677  \n",
       "2008                        11.634026  \n",
       "2009                        23.068246  \n",
       "2010                         9.599659  \n",
       "2011                         9.410349  \n",
       "2012                        24.020356  \n",
       "2013                        19.873796  \n",
       "2014                        29.777696  \n",
       "2015                        22.091444  \n",
       "2016                        23.063999  \n",
       "2017                        24.368736  \n",
       "2018                        53.283021  \n",
       "2019                       -18.845029  "
      ]
     },
     "metadata": {},
     "output_type": "display_data"
    },
    {
     "data": {
      "text/html": [
       "<div>\n",
       "<style scoped>\n",
       "    .dataframe tbody tr th:only-of-type {\n",
       "        vertical-align: middle;\n",
       "    }\n",
       "\n",
       "    .dataframe tbody tr th {\n",
       "        vertical-align: top;\n",
       "    }\n",
       "\n",
       "    .dataframe thead th {\n",
       "        text-align: right;\n",
       "    }\n",
       "</style>\n",
       "<table border=\"1\" class=\"dataframe\">\n",
       "  <thead>\n",
       "    <tr style=\"text-align: right;\">\n",
       "      <th></th>\n",
       "      <th>movie_count</th>\n",
       "      <th>ticket_sales_in_millions</th>\n",
       "      <th>production_budget_in_millions</th>\n",
       "      <th>profit_in_millions</th>\n",
       "      <th>return_on_investment_%</th>\n",
       "    </tr>\n",
       "  </thead>\n",
       "  <tbody>\n",
       "    <tr>\n",
       "      <th>mean</th>\n",
       "      <td>219.200000</td>\n",
       "      <td>9175.651400</td>\n",
       "      <td>7555.280400</td>\n",
       "      <td>1620.371000</td>\n",
       "      <td>21.060682</td>\n",
       "    </tr>\n",
       "    <tr>\n",
       "      <th>median</th>\n",
       "      <td>221.500000</td>\n",
       "      <td>9573.824500</td>\n",
       "      <td>7623.038000</td>\n",
       "      <td>1870.859500</td>\n",
       "      <td>23.066123</td>\n",
       "    </tr>\n",
       "    <tr>\n",
       "      <th>std</th>\n",
       "      <td>55.651737</td>\n",
       "      <td>1839.441252</td>\n",
       "      <td>1407.399427</td>\n",
       "      <td>861.312106</td>\n",
       "      <td>13.991807</td>\n",
       "    </tr>\n",
       "  </tbody>\n",
       "</table>\n",
       "</div>"
      ],
      "text/plain": [
       "        movie_count  ticket_sales_in_millions  production_budget_in_millions  \\\n",
       "mean     219.200000               9175.651400                    7555.280400   \n",
       "median   221.500000               9573.824500                    7623.038000   \n",
       "std       55.651737               1839.441252                    1407.399427   \n",
       "\n",
       "        profit_in_millions  return_on_investment_%  \n",
       "mean           1620.371000               21.060682  \n",
       "median         1870.859500               23.066123  \n",
       "std             861.312106               13.991807  "
      ]
     },
     "execution_count": 8,
     "metadata": {},
     "output_type": "execute_result"
    }
   ],
   "source": [
    "display(annual_totals_df)\n",
    "annual_totals_df.agg(['mean','median','std'])"
   ]
  },
  {
   "cell_type": "markdown",
   "metadata": {},
   "source": [
    "#### Now that we have the aggregate over the years lets normalize it on a per movie basis\n",
    "\n",
    "This will give us insight on if movies are generating more money. "
   ]
  },
  {
   "cell_type": "code",
   "execution_count": 9,
   "metadata": {},
   "outputs": [],
   "source": [
    "annual_per_movie_df = annual_totals_df\n",
    "\n",
    "annual_per_movie_df['ticket_sales_per_movie'] = annual_totals_df['ticket_sales_in_millions'] / annual_totals_df['movie_count']\n",
    "\n",
    "annual_per_movie_df['profit_per_movie'] = annual_totals_df['profit_in_millions'] / annual_totals_df['movie_count']\n",
    "\n",
    "annual_per_movie_df['production_budget_per_movie'] = annual_totals_df['production_budget_in_millions'] / annual_totals_df['movie_count']\n",
    "\n",
    "annual_per_movie_df['roi_per_movie'] = annual_totals_df['return_on_investment_%'] / annual_totals_df['movie_count']\n",
    "\n",
    "annual_per_movie_df = annual_per_movie_df.reset_index()"
   ]
  },
  {
   "cell_type": "code",
   "execution_count": 10,
   "metadata": {},
   "outputs": [
    {
     "data": {
      "text/html": [
       "<div>\n",
       "<style scoped>\n",
       "    .dataframe tbody tr th:only-of-type {\n",
       "        vertical-align: middle;\n",
       "    }\n",
       "\n",
       "    .dataframe tbody tr th {\n",
       "        vertical-align: top;\n",
       "    }\n",
       "\n",
       "    .dataframe thead th {\n",
       "        text-align: right;\n",
       "    }\n",
       "</style>\n",
       "<table border=\"1\" class=\"dataframe\">\n",
       "  <thead>\n",
       "    <tr style=\"text-align: right;\">\n",
       "      <th></th>\n",
       "      <th>year_released</th>\n",
       "      <th>movie_count</th>\n",
       "      <th>ticket_sales_in_millions</th>\n",
       "      <th>production_budget_in_millions</th>\n",
       "      <th>profit_in_millions</th>\n",
       "      <th>return_on_investment_%</th>\n",
       "      <th>ticket_sales_per_movie</th>\n",
       "      <th>profit_per_movie</th>\n",
       "      <th>production_budget_per_movie</th>\n",
       "      <th>roi_per_movie</th>\n",
       "    </tr>\n",
       "  </thead>\n",
       "  <tbody>\n",
       "    <tr>\n",
       "      <th>0</th>\n",
       "      <td>2000</td>\n",
       "      <td>189</td>\n",
       "      <td>7413.773</td>\n",
       "      <td>5890.738</td>\n",
       "      <td>1523.035</td>\n",
       "      <td>25.854740</td>\n",
       "      <td>39.226312</td>\n",
       "      <td>8.058386</td>\n",
       "      <td>31.167926</td>\n",
       "      <td>0.136798</td>\n",
       "    </tr>\n",
       "    <tr>\n",
       "      <th>1</th>\n",
       "      <td>2001</td>\n",
       "      <td>181</td>\n",
       "      <td>7909.169</td>\n",
       "      <td>5888.770</td>\n",
       "      <td>2020.399</td>\n",
       "      <td>34.309355</td>\n",
       "      <td>43.697066</td>\n",
       "      <td>11.162425</td>\n",
       "      <td>32.534641</td>\n",
       "      <td>0.189554</td>\n",
       "    </tr>\n",
       "    <tr>\n",
       "      <th>2</th>\n",
       "      <td>2002</td>\n",
       "      <td>210</td>\n",
       "      <td>8785.468</td>\n",
       "      <td>6555.038</td>\n",
       "      <td>2230.430</td>\n",
       "      <td>34.026195</td>\n",
       "      <td>41.835562</td>\n",
       "      <td>10.621095</td>\n",
       "      <td>31.214467</td>\n",
       "      <td>0.162029</td>\n",
       "    </tr>\n",
       "    <tr>\n",
       "      <th>3</th>\n",
       "      <td>2003</td>\n",
       "      <td>201</td>\n",
       "      <td>8405.310</td>\n",
       "      <td>6486.168</td>\n",
       "      <td>1919.142</td>\n",
       "      <td>29.588225</td>\n",
       "      <td>41.817463</td>\n",
       "      <td>9.547970</td>\n",
       "      <td>32.269493</td>\n",
       "      <td>0.147205</td>\n",
       "    </tr>\n",
       "    <tr>\n",
       "      <th>4</th>\n",
       "      <td>2004</td>\n",
       "      <td>206</td>\n",
       "      <td>9090.879</td>\n",
       "      <td>7268.302</td>\n",
       "      <td>1822.577</td>\n",
       "      <td>25.075692</td>\n",
       "      <td>44.130481</td>\n",
       "      <td>8.847461</td>\n",
       "      <td>35.283019</td>\n",
       "      <td>0.121727</td>\n",
       "    </tr>\n",
       "  </tbody>\n",
       "</table>\n",
       "</div>"
      ],
      "text/plain": [
       "   year_released  movie_count  ticket_sales_in_millions  \\\n",
       "0           2000          189                  7413.773   \n",
       "1           2001          181                  7909.169   \n",
       "2           2002          210                  8785.468   \n",
       "3           2003          201                  8405.310   \n",
       "4           2004          206                  9090.879   \n",
       "\n",
       "   production_budget_in_millions  profit_in_millions  return_on_investment_%  \\\n",
       "0                       5890.738            1523.035               25.854740   \n",
       "1                       5888.770            2020.399               34.309355   \n",
       "2                       6555.038            2230.430               34.026195   \n",
       "3                       6486.168            1919.142               29.588225   \n",
       "4                       7268.302            1822.577               25.075692   \n",
       "\n",
       "   ticket_sales_per_movie  profit_per_movie  production_budget_per_movie  \\\n",
       "0               39.226312          8.058386                    31.167926   \n",
       "1               43.697066         11.162425                    32.534641   \n",
       "2               41.835562         10.621095                    31.214467   \n",
       "3               41.817463          9.547970                    32.269493   \n",
       "4               44.130481          8.847461                    35.283019   \n",
       "\n",
       "   roi_per_movie  \n",
       "0       0.136798  \n",
       "1       0.189554  \n",
       "2       0.162029  \n",
       "3       0.147205  \n",
       "4       0.121727  "
      ]
     },
     "execution_count": 10,
     "metadata": {},
     "output_type": "execute_result"
    }
   ],
   "source": [
    "annual_per_movie_df.head()"
   ]
  },
  {
   "cell_type": "code",
   "execution_count": 11,
   "metadata": {},
   "outputs": [],
   "source": [
    "annual_per_movie_df.drop(columns=['movie_count','ticket_sales_in_millions','production_budget_in_millions','profit_in_millions','return_on_investment_%','roi_per_movie'], inplace=True)\n"
   ]
  },
  {
   "cell_type": "code",
   "execution_count": 12,
   "metadata": {},
   "outputs": [
    {
     "data": {
      "text/plain": [
       "<matplotlib.axes._subplots.AxesSubplot at 0x1ec8bda3358>"
      ]
     },
     "execution_count": 12,
     "metadata": {},
     "output_type": "execute_result"
    },
    {
     "data": {
      "image/png": "[encoded data removed]",
      "text/plain": [
       "<Figure size 576x576 with 1 Axes>"
      ]
     },
     "metadata": {
      "needs_background": "light"
     },
     "output_type": "display_data"
    }
   ],
   "source": [
    "plt.figure(figsize=(8, 8))\n",
    "sns.lineplot(data=annual_per_movie_df.set_index(['year_released']))"
   ]
  },
  {
   "cell_type": "code",
   "execution_count": 13,
   "metadata": {
    "scrolled": false
   },
   "outputs": [
    {
     "name": "stderr",
     "output_type": "stream",
     "text": [
      "C:\\Users\\blake\\Anaconda3\\lib\\site-packages\\scipy\\stats\\stats.py:1713: FutureWarning: Using a non-tuple sequence for multidimensional indexing is deprecated; use `arr[tuple(seq)]` instead of `arr[seq]`. In the future this will be interpreted as an array index, `arr[np.array(seq)]`, which will result either in an error or a different result.\n",
      "  return np.add.reduce(sorted[indexer] * weights, axis=axis) / sumval\n"
     ]
    },
    {
     "data": {
      "text/plain": [
       "<matplotlib.axes._subplots.AxesSubplot at 0x1ec8d790940>"
      ]
     },
     "execution_count": 13,
     "metadata": {},
     "output_type": "execute_result"
    },
    {
     "data": {
      "image/png": "[encoded data removed]",
      "text/plain": [
       "<Figure size 720x720 with 1 Axes>"
      ]
     },
     "metadata": {
      "needs_background": "light"
     },
     "output_type": "display_data"
    }
   ],
   "source": [
    "plt.figure(figsize=(10,10))\n",
    "sns.regplot(x=annual_per_movie_df['year_released'],y=annual_per_movie_df['ticket_sales_per_movie'],ci=67)"
   ]
  },
  {
   "cell_type": "code",
   "execution_count": 14,
   "metadata": {
    "scrolled": false
   },
   "outputs": [
    {
     "name": "stderr",
     "output_type": "stream",
     "text": [
      "C:\\Users\\blake\\Anaconda3\\lib\\site-packages\\scipy\\stats\\stats.py:1713: FutureWarning: Using a non-tuple sequence for multidimensional indexing is deprecated; use `arr[tuple(seq)]` instead of `arr[seq]`. In the future this will be interpreted as an array index, `arr[np.array(seq)]`, which will result either in an error or a different result.\n",
      "  return np.add.reduce(sorted[indexer] * weights, axis=axis) / sumval\n"
     ]
    },
    {
     "data": {
      "text/plain": [
       "<matplotlib.axes._subplots.AxesSubplot at 0x1ec8d6f1fd0>"
      ]
     },
     "execution_count": 14,
     "metadata": {},
     "output_type": "execute_result"
    },
    {
     "data": {
      "image/png": "[encoded data removed]",
      "text/plain": [
       "<Figure size 720x720 with 1 Axes>"
      ]
     },
     "metadata": {
      "needs_background": "light"
     },
     "output_type": "display_data"
    }
   ],
   "source": [
    "plt.figure(figsize=(10,10))\n",
    "sns.regplot(x=annual_per_movie_df['year_released'],y=annual_per_movie_df['production_budget_per_movie'],ci=67)"
   ]
  },
  {
   "cell_type": "code",
   "execution_count": 15,
   "metadata": {
    "scrolled": false
   },
   "outputs": [
    {
     "name": "stderr",
     "output_type": "stream",
     "text": [
      "C:\\Users\\blake\\Anaconda3\\lib\\site-packages\\scipy\\stats\\stats.py:1713: FutureWarning: Using a non-tuple sequence for multidimensional indexing is deprecated; use `arr[tuple(seq)]` instead of `arr[seq]`. In the future this will be interpreted as an array index, `arr[np.array(seq)]`, which will result either in an error or a different result.\n",
      "  return np.add.reduce(sorted[indexer] * weights, axis=axis) / sumval\n"
     ]
    },
    {
     "data": {
      "text/plain": [
       "<matplotlib.axes._subplots.AxesSubplot at 0x1ec8d764080>"
      ]
     },
     "execution_count": 15,
     "metadata": {},
     "output_type": "execute_result"
    },
    {
     "data": {
      "image/png": "[encoded data removed]",
      "text/plain": [
       "<Figure size 720x720 with 1 Axes>"
      ]
     },
     "metadata": {
      "needs_background": "light"
     },
     "output_type": "display_data"
    }
   ],
   "source": [
    "plt.figure(figsize=(10,10))\n",
    "sns.regplot(x=annual_per_movie_df['year_released'],y=annual_per_movie_df['profit_per_movie'],ci=67)"
   ]
  },
  {
   "cell_type": "code",
   "execution_count": 16,
   "metadata": {},
   "outputs": [
    {
     "ename": "KeyError",
     "evalue": "'roi_per_movie'",
     "output_type": "error",
     "traceback": [
      "\u001b[1;31m---------------------------------------------------------------------------\u001b[0m",
      "\u001b[1;31mKeyError\u001b[0m                                  Traceback (most recent call last)",
      "\u001b[1;32m~\\Anaconda3\\lib\\site-packages\\pandas\\core\\indexes\\base.py\u001b[0m in \u001b[0;36mget_loc\u001b[1;34m(self, key, method, tolerance)\u001b[0m\n\u001b[0;32m   3077\u001b[0m             \u001b[1;32mtry\u001b[0m\u001b[1;33m:\u001b[0m\u001b[1;33m\u001b[0m\u001b[1;33m\u001b[0m\u001b[0m\n\u001b[1;32m-> 3078\u001b[1;33m                 \u001b[1;32mreturn\u001b[0m \u001b[0mself\u001b[0m\u001b[1;33m.\u001b[0m\u001b[0m_engine\u001b[0m\u001b[1;33m.\u001b[0m\u001b[0mget_loc\u001b[0m\u001b[1;33m(\u001b[0m\u001b[0mkey\u001b[0m\u001b[1;33m)\u001b[0m\u001b[1;33m\u001b[0m\u001b[1;33m\u001b[0m\u001b[0m\n\u001b[0m\u001b[0;32m   3079\u001b[0m             \u001b[1;32mexcept\u001b[0m \u001b[0mKeyError\u001b[0m\u001b[1;33m:\u001b[0m\u001b[1;33m\u001b[0m\u001b[1;33m\u001b[0m\u001b[0m\n",
      "\u001b[1;32mpandas\\_libs\\index.pyx\u001b[0m in \u001b[0;36mpandas._libs.index.IndexEngine.get_loc\u001b[1;34m()\u001b[0m\n",
      "\u001b[1;32mpandas\\_libs\\index.pyx\u001b[0m in \u001b[0;36mpandas._libs.index.IndexEngine.get_loc\u001b[1;34m()\u001b[0m\n",
      "\u001b[1;32mpandas\\_libs\\hashtable_class_helper.pxi\u001b[0m in \u001b[0;36mpandas._libs.hashtable.PyObjectHashTable.get_item\u001b[1;34m()\u001b[0m\n",
      "\u001b[1;32mpandas\\_libs\\hashtable_class_helper.pxi\u001b[0m in \u001b[0;36mpandas._libs.hashtable.PyObjectHashTable.get_item\u001b[1;34m()\u001b[0m\n",
      "\u001b[1;31mKeyError\u001b[0m: 'roi_per_movie'",
      "\nDuring handling of the above exception, another exception occurred:\n",
      "\u001b[1;31mKeyError\u001b[0m                                  Traceback (most recent call last)",
      "\u001b[1;32m<ipython-input-16-42bf0a129b15>\u001b[0m in \u001b[0;36m<module>\u001b[1;34m\u001b[0m\n\u001b[0;32m      1\u001b[0m \u001b[0mplt\u001b[0m\u001b[1;33m.\u001b[0m\u001b[0mfigure\u001b[0m\u001b[1;33m(\u001b[0m\u001b[0mfigsize\u001b[0m\u001b[1;33m=\u001b[0m\u001b[1;33m(\u001b[0m\u001b[1;36m10\u001b[0m\u001b[1;33m,\u001b[0m\u001b[1;36m10\u001b[0m\u001b[1;33m)\u001b[0m\u001b[1;33m)\u001b[0m\u001b[1;33m\u001b[0m\u001b[1;33m\u001b[0m\u001b[0m\n\u001b[1;32m----> 2\u001b[1;33m \u001b[0msns\u001b[0m\u001b[1;33m.\u001b[0m\u001b[0mregplot\u001b[0m\u001b[1;33m(\u001b[0m\u001b[0mx\u001b[0m\u001b[1;33m=\u001b[0m\u001b[0mannual_per_movie_df\u001b[0m\u001b[1;33m[\u001b[0m\u001b[1;34m'year_released'\u001b[0m\u001b[1;33m]\u001b[0m\u001b[1;33m,\u001b[0m\u001b[0my\u001b[0m\u001b[1;33m=\u001b[0m\u001b[0mannual_per_movie_df\u001b[0m\u001b[1;33m[\u001b[0m\u001b[1;34m'roi_per_movie'\u001b[0m\u001b[1;33m]\u001b[0m\u001b[1;33m,\u001b[0m\u001b[0mci\u001b[0m\u001b[1;33m=\u001b[0m\u001b[1;36m67\u001b[0m\u001b[1;33m)\u001b[0m\u001b[1;33m\u001b[0m\u001b[1;33m\u001b[0m\u001b[0m\n\u001b[0m",
      "\u001b[1;32m~\\Anaconda3\\lib\\site-packages\\pandas\\core\\frame.py\u001b[0m in \u001b[0;36m__getitem__\u001b[1;34m(self, key)\u001b[0m\n\u001b[0;32m   2686\u001b[0m             \u001b[1;32mreturn\u001b[0m \u001b[0mself\u001b[0m\u001b[1;33m.\u001b[0m\u001b[0m_getitem_multilevel\u001b[0m\u001b[1;33m(\u001b[0m\u001b[0mkey\u001b[0m\u001b[1;33m)\u001b[0m\u001b[1;33m\u001b[0m\u001b[1;33m\u001b[0m\u001b[0m\n\u001b[0;32m   2687\u001b[0m         \u001b[1;32melse\u001b[0m\u001b[1;33m:\u001b[0m\u001b[1;33m\u001b[0m\u001b[1;33m\u001b[0m\u001b[0m\n\u001b[1;32m-> 2688\u001b[1;33m             \u001b[1;32mreturn\u001b[0m \u001b[0mself\u001b[0m\u001b[1;33m.\u001b[0m\u001b[0m_getitem_column\u001b[0m\u001b[1;33m(\u001b[0m\u001b[0mkey\u001b[0m\u001b[1;33m)\u001b[0m\u001b[1;33m\u001b[0m\u001b[1;33m\u001b[0m\u001b[0m\n\u001b[0m\u001b[0;32m   2689\u001b[0m \u001b[1;33m\u001b[0m\u001b[0m\n\u001b[0;32m   2690\u001b[0m     \u001b[1;32mdef\u001b[0m \u001b[0m_getitem_column\u001b[0m\u001b[1;33m(\u001b[0m\u001b[0mself\u001b[0m\u001b[1;33m,\u001b[0m \u001b[0mkey\u001b[0m\u001b[1;33m)\u001b[0m\u001b[1;33m:\u001b[0m\u001b[1;33m\u001b[0m\u001b[1;33m\u001b[0m\u001b[0m\n",
      "\u001b[1;32m~\\Anaconda3\\lib\\site-packages\\pandas\\core\\frame.py\u001b[0m in \u001b[0;36m_getitem_column\u001b[1;34m(self, key)\u001b[0m\n\u001b[0;32m   2693\u001b[0m         \u001b[1;31m# get column\u001b[0m\u001b[1;33m\u001b[0m\u001b[1;33m\u001b[0m\u001b[1;33m\u001b[0m\u001b[0m\n\u001b[0;32m   2694\u001b[0m         \u001b[1;32mif\u001b[0m \u001b[0mself\u001b[0m\u001b[1;33m.\u001b[0m\u001b[0mcolumns\u001b[0m\u001b[1;33m.\u001b[0m\u001b[0mis_unique\u001b[0m\u001b[1;33m:\u001b[0m\u001b[1;33m\u001b[0m\u001b[1;33m\u001b[0m\u001b[0m\n\u001b[1;32m-> 2695\u001b[1;33m             \u001b[1;32mreturn\u001b[0m \u001b[0mself\u001b[0m\u001b[1;33m.\u001b[0m\u001b[0m_get_item_cache\u001b[0m\u001b[1;33m(\u001b[0m\u001b[0mkey\u001b[0m\u001b[1;33m)\u001b[0m\u001b[1;33m\u001b[0m\u001b[1;33m\u001b[0m\u001b[0m\n\u001b[0m\u001b[0;32m   2696\u001b[0m \u001b[1;33m\u001b[0m\u001b[0m\n\u001b[0;32m   2697\u001b[0m         \u001b[1;31m# duplicate columns & possible reduce dimensionality\u001b[0m\u001b[1;33m\u001b[0m\u001b[1;33m\u001b[0m\u001b[1;33m\u001b[0m\u001b[0m\n",
      "\u001b[1;32m~\\Anaconda3\\lib\\site-packages\\pandas\\core\\generic.py\u001b[0m in \u001b[0;36m_get_item_cache\u001b[1;34m(self, item)\u001b[0m\n\u001b[0;32m   2487\u001b[0m         \u001b[0mres\u001b[0m \u001b[1;33m=\u001b[0m \u001b[0mcache\u001b[0m\u001b[1;33m.\u001b[0m\u001b[0mget\u001b[0m\u001b[1;33m(\u001b[0m\u001b[0mitem\u001b[0m\u001b[1;33m)\u001b[0m\u001b[1;33m\u001b[0m\u001b[1;33m\u001b[0m\u001b[0m\n\u001b[0;32m   2488\u001b[0m         \u001b[1;32mif\u001b[0m \u001b[0mres\u001b[0m \u001b[1;32mis\u001b[0m \u001b[1;32mNone\u001b[0m\u001b[1;33m:\u001b[0m\u001b[1;33m\u001b[0m\u001b[1;33m\u001b[0m\u001b[0m\n\u001b[1;32m-> 2489\u001b[1;33m             \u001b[0mvalues\u001b[0m \u001b[1;33m=\u001b[0m \u001b[0mself\u001b[0m\u001b[1;33m.\u001b[0m\u001b[0m_data\u001b[0m\u001b[1;33m.\u001b[0m\u001b[0mget\u001b[0m\u001b[1;33m(\u001b[0m\u001b[0mitem\u001b[0m\u001b[1;33m)\u001b[0m\u001b[1;33m\u001b[0m\u001b[1;33m\u001b[0m\u001b[0m\n\u001b[0m\u001b[0;32m   2490\u001b[0m             \u001b[0mres\u001b[0m \u001b[1;33m=\u001b[0m \u001b[0mself\u001b[0m\u001b[1;33m.\u001b[0m\u001b[0m_box_item_values\u001b[0m\u001b[1;33m(\u001b[0m\u001b[0mitem\u001b[0m\u001b[1;33m,\u001b[0m \u001b[0mvalues\u001b[0m\u001b[1;33m)\u001b[0m\u001b[1;33m\u001b[0m\u001b[1;33m\u001b[0m\u001b[0m\n\u001b[0;32m   2491\u001b[0m             \u001b[0mcache\u001b[0m\u001b[1;33m[\u001b[0m\u001b[0mitem\u001b[0m\u001b[1;33m]\u001b[0m \u001b[1;33m=\u001b[0m \u001b[0mres\u001b[0m\u001b[1;33m\u001b[0m\u001b[1;33m\u001b[0m\u001b[0m\n",
      "\u001b[1;32m~\\Anaconda3\\lib\\site-packages\\pandas\\core\\internals.py\u001b[0m in \u001b[0;36mget\u001b[1;34m(self, item, fastpath)\u001b[0m\n\u001b[0;32m   4113\u001b[0m \u001b[1;33m\u001b[0m\u001b[0m\n\u001b[0;32m   4114\u001b[0m             \u001b[1;32mif\u001b[0m \u001b[1;32mnot\u001b[0m \u001b[0misna\u001b[0m\u001b[1;33m(\u001b[0m\u001b[0mitem\u001b[0m\u001b[1;33m)\u001b[0m\u001b[1;33m:\u001b[0m\u001b[1;33m\u001b[0m\u001b[1;33m\u001b[0m\u001b[0m\n\u001b[1;32m-> 4115\u001b[1;33m                 \u001b[0mloc\u001b[0m \u001b[1;33m=\u001b[0m \u001b[0mself\u001b[0m\u001b[1;33m.\u001b[0m\u001b[0mitems\u001b[0m\u001b[1;33m.\u001b[0m\u001b[0mget_loc\u001b[0m\u001b[1;33m(\u001b[0m\u001b[0mitem\u001b[0m\u001b[1;33m)\u001b[0m\u001b[1;33m\u001b[0m\u001b[1;33m\u001b[0m\u001b[0m\n\u001b[0m\u001b[0;32m   4116\u001b[0m             \u001b[1;32melse\u001b[0m\u001b[1;33m:\u001b[0m\u001b[1;33m\u001b[0m\u001b[1;33m\u001b[0m\u001b[0m\n\u001b[0;32m   4117\u001b[0m                 \u001b[0mindexer\u001b[0m \u001b[1;33m=\u001b[0m \u001b[0mnp\u001b[0m\u001b[1;33m.\u001b[0m\u001b[0marange\u001b[0m\u001b[1;33m(\u001b[0m\u001b[0mlen\u001b[0m\u001b[1;33m(\u001b[0m\u001b[0mself\u001b[0m\u001b[1;33m.\u001b[0m\u001b[0mitems\u001b[0m\u001b[1;33m)\u001b[0m\u001b[1;33m)\u001b[0m\u001b[1;33m[\u001b[0m\u001b[0misna\u001b[0m\u001b[1;33m(\u001b[0m\u001b[0mself\u001b[0m\u001b[1;33m.\u001b[0m\u001b[0mitems\u001b[0m\u001b[1;33m)\u001b[0m\u001b[1;33m]\u001b[0m\u001b[1;33m\u001b[0m\u001b[1;33m\u001b[0m\u001b[0m\n",
      "\u001b[1;32m~\\Anaconda3\\lib\\site-packages\\pandas\\core\\indexes\\base.py\u001b[0m in \u001b[0;36mget_loc\u001b[1;34m(self, key, method, tolerance)\u001b[0m\n\u001b[0;32m   3078\u001b[0m                 \u001b[1;32mreturn\u001b[0m \u001b[0mself\u001b[0m\u001b[1;33m.\u001b[0m\u001b[0m_engine\u001b[0m\u001b[1;33m.\u001b[0m\u001b[0mget_loc\u001b[0m\u001b[1;33m(\u001b[0m\u001b[0mkey\u001b[0m\u001b[1;33m)\u001b[0m\u001b[1;33m\u001b[0m\u001b[1;33m\u001b[0m\u001b[0m\n\u001b[0;32m   3079\u001b[0m             \u001b[1;32mexcept\u001b[0m \u001b[0mKeyError\u001b[0m\u001b[1;33m:\u001b[0m\u001b[1;33m\u001b[0m\u001b[1;33m\u001b[0m\u001b[0m\n\u001b[1;32m-> 3080\u001b[1;33m                 \u001b[1;32mreturn\u001b[0m \u001b[0mself\u001b[0m\u001b[1;33m.\u001b[0m\u001b[0m_engine\u001b[0m\u001b[1;33m.\u001b[0m\u001b[0mget_loc\u001b[0m\u001b[1;33m(\u001b[0m\u001b[0mself\u001b[0m\u001b[1;33m.\u001b[0m\u001b[0m_maybe_cast_indexer\u001b[0m\u001b[1;33m(\u001b[0m\u001b[0mkey\u001b[0m\u001b[1;33m)\u001b[0m\u001b[1;33m)\u001b[0m\u001b[1;33m\u001b[0m\u001b[1;33m\u001b[0m\u001b[0m\n\u001b[0m\u001b[0;32m   3081\u001b[0m \u001b[1;33m\u001b[0m\u001b[0m\n\u001b[0;32m   3082\u001b[0m         \u001b[0mindexer\u001b[0m \u001b[1;33m=\u001b[0m \u001b[0mself\u001b[0m\u001b[1;33m.\u001b[0m\u001b[0mget_indexer\u001b[0m\u001b[1;33m(\u001b[0m\u001b[1;33m[\u001b[0m\u001b[0mkey\u001b[0m\u001b[1;33m]\u001b[0m\u001b[1;33m,\u001b[0m \u001b[0mmethod\u001b[0m\u001b[1;33m=\u001b[0m\u001b[0mmethod\u001b[0m\u001b[1;33m,\u001b[0m \u001b[0mtolerance\u001b[0m\u001b[1;33m=\u001b[0m\u001b[0mtolerance\u001b[0m\u001b[1;33m)\u001b[0m\u001b[1;33m\u001b[0m\u001b[1;33m\u001b[0m\u001b[0m\n",
      "\u001b[1;32mpandas\\_libs\\index.pyx\u001b[0m in \u001b[0;36mpandas._libs.index.IndexEngine.get_loc\u001b[1;34m()\u001b[0m\n",
      "\u001b[1;32mpandas\\_libs\\index.pyx\u001b[0m in \u001b[0;36mpandas._libs.index.IndexEngine.get_loc\u001b[1;34m()\u001b[0m\n",
      "\u001b[1;32mpandas\\_libs\\hashtable_class_helper.pxi\u001b[0m in \u001b[0;36mpandas._libs.hashtable.PyObjectHashTable.get_item\u001b[1;34m()\u001b[0m\n",
      "\u001b[1;32mpandas\\_libs\\hashtable_class_helper.pxi\u001b[0m in \u001b[0;36mpandas._libs.hashtable.PyObjectHashTable.get_item\u001b[1;34m()\u001b[0m\n",
      "\u001b[1;31mKeyError\u001b[0m: 'roi_per_movie'"
     ]
    },
    {
     "data": {
      "text/plain": [
       "<Figure size 720x720 with 0 Axes>"
      ]
     },
     "metadata": {},
     "output_type": "display_data"
    }
   ],
   "source": [
    "plt.figure(figsize=(10,10))\n",
    "sns.regplot(x=annual_per_movie_df['year_released'],y=annual_per_movie_df['roi_per_movie'],ci=67)"
   ]
  },
  {
   "cell_type": "code",
   "execution_count": null,
   "metadata": {},
   "outputs": [],
   "source": [
    "annual_per_movie_df.head()"
   ]
  },
  {
   "cell_type": "markdown",
   "metadata": {},
   "source": [
    "#### Correlations"
   ]
  },
  {
   "cell_type": "code",
   "execution_count": null,
   "metadata": {
    "scrolled": false
   },
   "outputs": [],
   "source": [
    "corrMatrix = annual_per_movie_df.corr()\n",
    "plt.figure(figsize=(10, 10))\n",
    "sns.heatmap(corrMatrix, annot=True)"
   ]
  },
  {
   "cell_type": "code",
   "execution_count": null,
   "metadata": {},
   "outputs": [],
   "source": [
    "df_master_correlations = df.drop(columns=['genres','tconst','domestic_gross','profit','production_budget','id'])\n",
    "display(df_master_correlations.head())\n",
    "corrMatrix = df_master_correlations.corr()\n",
    "sns.heatmap(corrMatrix, annot=True)"
   ]
  },
  {
   "cell_type": "markdown",
   "metadata": {},
   "source": [
    "### Range of Outcomes"
   ]
  },
  {
   "cell_type": "code",
   "execution_count": null,
   "metadata": {},
   "outputs": [],
   "source": [
    "plt.figure(figsize=(13, 8))\n",
    "sns.boxplot(df['profit_in_millions'],df['year_released'], showfliers=False, orient='h', palette='muted')\n",
    "plt.show()"
   ]
  },
  {
   "cell_type": "code",
   "execution_count": null,
   "metadata": {
    "scrolled": true
   },
   "outputs": [],
   "source": [
    "profit_metrics = df.groupby(['year_released'])[['profit_in_millions','production_budget_in_millions',\n",
    "                               'return_on_investment']].agg(['median','mean','std'])"
   ]
  },
  {
   "cell_type": "code",
   "execution_count": null,
   "metadata": {},
   "outputs": [],
   "source": [
    "profit_trend_plot = sns.lineplot(data = profit_metrics['profit_in_millions'])\n"
   ]
  },
  {
   "cell_type": "code",
   "execution_count": null,
   "metadata": {
    "scrolled": false
   },
   "outputs": [],
   "source": [
    "plt.figure(figsize=(13, 8))\n",
    "roi_trend_plot = sns.lineplot(data = profit_metrics['return_on_investment'])"
   ]
  },
  {
   "cell_type": "code",
   "execution_count": null,
   "metadata": {},
   "outputs": [],
   "source": [
    "plt.figure(figsize=(13, 8))\n",
    "roi_trend_plot = sns.lineplot(data = profit_metrics['production_budget_in_millions'])"
   ]
  },
  {
   "cell_type": "code",
   "execution_count": null,
   "metadata": {},
   "outputs": [],
   "source": [
    "df.head()"
   ]
  },
  {
   "cell_type": "code",
   "execution_count": null,
   "metadata": {},
   "outputs": [],
   "source": [
    "plt.scatter(df['year_released'],df['domestic_gross'])\n",
    "plt.yscale('log')\n",
    "plt.show()"
   ]
  },
  {
   "cell_type": "code",
   "execution_count": null,
   "metadata": {},
   "outputs": [],
   "source": [
    "df['production_budget'].corr(df['profit']) #0.1368\n",
    "df['production_budget'].corr(df['domestic_gross']) #0.7322\n",
    "df['production_budget'].corr(df['runtime']) #.311"
   ]
  },
  {
   "cell_type": "code",
   "execution_count": null,
   "metadata": {},
   "outputs": [],
   "source": [
    "plt.hist(df['domestic_gross_in_millions'])\n",
    "average_domestic_gross_alltime = round(df['domestic_gross_in_millions'].mean(),3)\n",
    "median_domestic_gross_alltime = df['domestic_gross_in_millions'].median()\n",
    "\n",
    "\n",
    "\n",
    "print(f'The average ticket sales revenue is {average_domestic_gross_alltime} million dollars')\n",
    "print(f'The median ticket sales revenue is {median_domestic_gross_alltime} median dollars')\n",
    "\n",
    "average_production_budget_alltime = round(df['production_budget_in_millions'].mean(),3)\n",
    "median_domestic_gross_alltime = df['production_budget_in_millions'].median()\n",
    "\n",
    "print(f'The average production budget is {average_production_budget_alltime} million dollars')\n",
    "print(f'The median production budget is {median_domestic_gross_alltime} median dollars')"
   ]
  },
  {
   "cell_type": "code",
   "execution_count": null,
   "metadata": {},
   "outputs": [],
   "source": [
    "sns.regplot(df['year_released'],df['domestic_gross_in_millions'])\n"
   ]
  },
  {
   "cell_type": "code",
   "execution_count": null,
   "metadata": {},
   "outputs": [],
   "source": [
    "df['domestic_gross_in_millions'].describe()"
   ]
  },
  {
   "cell_type": "code",
   "execution_count": null,
   "metadata": {},
   "outputs": [],
   "source": [
    "plt.figure(figsize=(13, 8))\n",
    "sns.boxplot(df['profit_in_millions'],df['year_released'], showfliers=False, orient='h', palette='muted')\n",
    "plt.show()"
   ]
  },
  {
   "cell_type": "code",
   "execution_count": null,
   "metadata": {},
   "outputs": [],
   "source": []
  }
 ],
 "metadata": {
  "kernelspec": {
   "display_name": "Python 3",
   "language": "python",
   "name": "python3"
  },
  "language_info": {
   "codemirror_mode": {
    "name": "ipython",
    "version": 3
   },
   "file_extension": ".py",
   "mimetype": "text/x-python",
   "name": "python",
   "nbconvert_exporter": "python",
   "pygments_lexer": "ipython3",
   "version": "3.7.1"
  }
 },
 "nbformat": 4,
 "nbformat_minor": 2
}
