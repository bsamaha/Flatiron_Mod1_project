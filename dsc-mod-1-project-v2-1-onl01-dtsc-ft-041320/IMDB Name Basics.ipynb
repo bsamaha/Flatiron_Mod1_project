{
 "cells": [
  {
   "cell_type": "code",
   "execution_count": 1,
   "metadata": {},
   "outputs": [],
   "source": [
    "import gzip\n",
    "import pandas as pd\n",
    "import numpy as np\n",
    "import matplotlib.pyplot as plt\n",
    "\n"
   ]
  },
  {
   "cell_type": "code",
   "execution_count": 4,
   "metadata": {},
   "outputs": [
    {
     "data": {
      "text/html": [
       "<div>\n",
       "<style scoped>\n",
       "    .dataframe tbody tr th:only-of-type {\n",
       "        vertical-align: middle;\n",
       "    }\n",
       "\n",
       "    .dataframe tbody tr th {\n",
       "        vertical-align: top;\n",
       "    }\n",
       "\n",
       "    .dataframe thead th {\n",
       "        text-align: right;\n",
       "    }\n",
       "</style>\n",
       "<table border=\"1\" class=\"dataframe\">\n",
       "  <thead>\n",
       "    <tr style=\"text-align: right;\">\n",
       "      <th></th>\n",
       "      <th>nconst</th>\n",
       "      <th>primary_name</th>\n",
       "      <th>birth_year</th>\n",
       "      <th>death_year</th>\n",
       "      <th>primary_profession</th>\n",
       "      <th>known_for_titles</th>\n",
       "    </tr>\n",
       "  </thead>\n",
       "  <tbody>\n",
       "    <tr>\n",
       "      <th>0</th>\n",
       "      <td>nm0061671</td>\n",
       "      <td>Mary Ellen Bauder</td>\n",
       "      <td>NaN</td>\n",
       "      <td>NaN</td>\n",
       "      <td>miscellaneous,production_manager,producer</td>\n",
       "      <td>tt0837562,tt2398241,tt0844471,tt0118553</td>\n",
       "    </tr>\n",
       "    <tr>\n",
       "      <th>1</th>\n",
       "      <td>nm0061865</td>\n",
       "      <td>Joseph Bauer</td>\n",
       "      <td>NaN</td>\n",
       "      <td>NaN</td>\n",
       "      <td>composer,music_department,sound_department</td>\n",
       "      <td>tt0896534,tt6791238,tt0287072,tt1682940</td>\n",
       "    </tr>\n",
       "    <tr>\n",
       "      <th>2</th>\n",
       "      <td>nm0062070</td>\n",
       "      <td>Bruce Baum</td>\n",
       "      <td>NaN</td>\n",
       "      <td>NaN</td>\n",
       "      <td>miscellaneous,actor,writer</td>\n",
       "      <td>tt1470654,tt0363631,tt0104030,tt0102898</td>\n",
       "    </tr>\n",
       "    <tr>\n",
       "      <th>3</th>\n",
       "      <td>nm0062195</td>\n",
       "      <td>Axel Baumann</td>\n",
       "      <td>NaN</td>\n",
       "      <td>NaN</td>\n",
       "      <td>camera_department,cinematographer,art_department</td>\n",
       "      <td>tt0114371,tt2004304,tt1618448,tt1224387</td>\n",
       "    </tr>\n",
       "    <tr>\n",
       "      <th>4</th>\n",
       "      <td>nm0062798</td>\n",
       "      <td>Pete Baxter</td>\n",
       "      <td>NaN</td>\n",
       "      <td>NaN</td>\n",
       "      <td>production_designer,art_department,set_decorator</td>\n",
       "      <td>tt0452644,tt0452692,tt3458030,tt2178256</td>\n",
       "    </tr>\n",
       "  </tbody>\n",
       "</table>\n",
       "</div>"
      ],
      "text/plain": [
       "      nconst       primary_name  birth_year  death_year  \\\n",
       "0  nm0061671  Mary Ellen Bauder         NaN         NaN   \n",
       "1  nm0061865       Joseph Bauer         NaN         NaN   \n",
       "2  nm0062070         Bruce Baum         NaN         NaN   \n",
       "3  nm0062195       Axel Baumann         NaN         NaN   \n",
       "4  nm0062798        Pete Baxter         NaN         NaN   \n",
       "\n",
       "                                 primary_profession  \\\n",
       "0         miscellaneous,production_manager,producer   \n",
       "1        composer,music_department,sound_department   \n",
       "2                        miscellaneous,actor,writer   \n",
       "3  camera_department,cinematographer,art_department   \n",
       "4  production_designer,art_department,set_decorator   \n",
       "\n",
       "                          known_for_titles  \n",
       "0  tt0837562,tt2398241,tt0844471,tt0118553  \n",
       "1  tt0896534,tt6791238,tt0287072,tt1682940  \n",
       "2  tt1470654,tt0363631,tt0104030,tt0102898  \n",
       "3  tt0114371,tt2004304,tt1618448,tt1224387  \n",
       "4  tt0452644,tt0452692,tt3458030,tt2178256  "
      ]
     },
     "execution_count": 4,
     "metadata": {},
     "output_type": "execute_result"
    }
   ],
   "source": [
    "#read zip file into a dataframe\n",
    "imdb_name_basics_df = pd.read_csv('zippedData/imdb.name.basics.csv.gz')\n",
    "imdb_name_basics_df.head() #preview file\n"
   ]
  },
  {
   "cell_type": "code",
   "execution_count": 5,
   "metadata": {},
   "outputs": [
    {
     "data": {
      "text/plain": [
       "(606648, 6)"
      ]
     },
     "execution_count": 5,
     "metadata": {},
     "output_type": "execute_result"
    }
   ],
   "source": [
    "imdb_name_basics_df.shape"
   ]
  },
  {
   "cell_type": "markdown",
   "metadata": {},
   "source": [
    "## IMDB Name Basics\n",
    "\n",
    "This looks like a table of professionals in the film industry who have been named. There are 6 columns and over 60,000 records. The nconst column seems to be a unique identifier and the known_for_titles column seems to have each movie as a non-human readable unique identifier."
   ]
  },
  {
   "cell_type": "code",
   "execution_count": 7,
   "metadata": {},
   "outputs": [
    {
     "data": {
      "text/plain": [
       "0"
      ]
     },
     "execution_count": 7,
     "metadata": {},
     "output_type": "execute_result"
    }
   ],
   "source": [
    "imdb_name_basics_df['nconst'].value_counts() #is unique nothing more than once\n",
    "imdb_name_basics_df['nconst'].isnull().sum() # 0 null values found"
   ]
  },
  {
   "cell_type": "code",
   "execution_count": 9,
   "metadata": {},
   "outputs": [
    {
     "data": {
      "text/plain": [
       "0"
      ]
     },
     "execution_count": 9,
     "metadata": {},
     "output_type": "execute_result"
    }
   ],
   "source": [
    "imdb_name_basics_df['primary_name'].value_counts() #lots of identical names here data seems to be formatted well\n",
    "imdb_name_basics_df['primary_name'].isnull().sum() # 0 null values found"
   ]
  },
  {
   "cell_type": "code",
   "execution_count": 11,
   "metadata": {},
   "outputs": [
    {
     "data": {
      "text/plain": [
       "523912"
      ]
     },
     "execution_count": 11,
     "metadata": {},
     "output_type": "execute_result"
    }
   ],
   "source": [
    "imdb_name_basics_df['birth_year'].isnull().sum() #523912 null values"
   ]
  },
  {
   "cell_type": "code",
   "execution_count": 13,
   "metadata": {},
   "outputs": [
    {
     "data": {
      "text/plain": [
       "599865"
      ]
     },
     "execution_count": 13,
     "metadata": {},
     "output_type": "execute_result"
    }
   ],
   "source": [
    "imdb_name_basics_df['death_year'].isnull().sum() #almost 60000 null values"
   ]
  },
  {
   "cell_type": "code",
   "execution_count": 15,
   "metadata": {},
   "outputs": [
    {
     "data": {
      "text/plain": [
       "actor                                                      88306\n",
       "actress                                                    58430\n",
       "producer                                                   23324\n",
       "composer                                                   20125\n",
       "writer                                                     18247\n",
       "cinematographer                                            11297\n",
       "director                                                    9149\n",
       "editor                                                      8840\n",
       "director,writer,producer                                    8148\n",
       "producer,director,writer                                    6486\n",
       "director,writer                                             5446\n",
       "actor,producer                                              5138\n",
       "cinematographer,camera_department                           4462\n",
       "actor,director,writer                                       4435\n",
       "director,writer,editor                                      4336\n",
       "actor,writer                                                4187\n",
       "director,writer,cinematographer                             4175\n",
       "actor,writer,producer                                       4061\n",
       "composer,music_department                                   3589\n",
       "writer,producer                                             3464\n",
       "actress,producer                                            3007\n",
       "director,producer,writer                                    3004\n",
       "director,actor,writer                                       2782\n",
       "actor,producer,writer                                       2725\n",
       "writer,director,producer                                    2548\n",
       "camera_department,cinematographer                           2515\n",
       "director,producer                                           2465\n",
       "actor,miscellaneous                                         2460\n",
       "producer,writer,director                                    2453\n",
       "writer,producer,director                                    2350\n",
       "                                                           ...  \n",
       "talent_agent,actress,transportation_department                 1\n",
       "composer,art_director,producer                                 1\n",
       "camera_department,make_up_department,cinematographer           1\n",
       "visual_effects,composer,cinematographer                        1\n",
       "producer,actress,publicist                                     1\n",
       "editorial_department,miscellaneous                             1\n",
       "costume_department,producer,camera_department                  1\n",
       "producer,location_management,soundtrack                        1\n",
       "producer,actress,assistant                                     1\n",
       "cinematographer,editor,stunts                                  1\n",
       "legal,writer,talent_agent                                      1\n",
       "miscellaneous,art_director,assistant_director                  1\n",
       "writer,art_department,costume_designer                         1\n",
       "actress,production_manager,art_department                      1\n",
       "actor,production_manager,editor                                1\n",
       "visual_effects,art_department,actor                            1\n",
       "make_up_department,actress,casting_director                    1\n",
       "talent_agent,casting_director,casting_department               1\n",
       "special_effects,director,editor                                1\n",
       "make_up_department,costume_department,camera_department        1\n",
       "assistant_director,art_department,miscellaneous                1\n",
       "composer,legal                                                 1\n",
       "actress,music_department,stunts                                1\n",
       "actress,soundtrack,editor                                      1\n",
       "art_department,camera_department,stunts                        1\n",
       "casting_department,actor,editorial_department                  1\n",
       "location_management,camera_department,editor                   1\n",
       "actor,production_designer,soundtrack                           1\n",
       "camera_department,producer,soundtrack                          1\n",
       "visual_effects,sound_department,production_manager             1\n",
       "Name: primary_profession, Length: 8647, dtype: int64"
      ]
     },
     "execution_count": 15,
     "metadata": {},
     "output_type": "execute_result"
    }
   ],
   "source": [
    "imdb_name_basics_df['primary_profession'].value_counts() # if they have performed multiple roles it may be a unique number\n",
    "                                                         # to perform analysis with this we will have to search the string \n",
    "                                                         # to contain individual items like \"actor\""
   ]
  },
  {
   "cell_type": "code",
   "execution_count": 17,
   "metadata": {},
   "outputs": [
    {
     "data": {
      "text/plain": [
       "tt4773466                                  45\n",
       "tt3428990                                  23\n",
       "tt3014460                                  23\n",
       "tt4803104                                  19\n",
       "tt2120166                                  17\n",
       "tt5827890                                  16\n",
       "tt2234076                                  16\n",
       "tt1493812                                  15\n",
       "tt6055760                                  15\n",
       "tt4356218                                  14\n",
       "tt3420716                                  14\n",
       "tt3475186                                  14\n",
       "tt7372762                                  13\n",
       "tt1560702                                  13\n",
       "tt2275573                                  13\n",
       "tt1974200                                  12\n",
       "tt6821990                                  12\n",
       "tt5455352                                  11\n",
       "tt2034084                                  11\n",
       "tt5858514                                  11\n",
       "tt7380862                                  11\n",
       "tt3551744                                  11\n",
       "tt7266048                                  11\n",
       "tt3310594                                  10\n",
       "tt3459348                                  10\n",
       "tt5615922                                  10\n",
       "tt4330400                                  10\n",
       "tt7035354                                  10\n",
       "tt5127076                                  10\n",
       "tt6656262                                  10\n",
       "                                           ..\n",
       "tt5618232,tt3445702,tt8581152,tt5843760     1\n",
       "tt5189554,tt5019216,tt0112952,tt4005402     1\n",
       "tt0118928,tt0115641,tt0306685,tt0441796     1\n",
       "tt6136842,tt3609990                         1\n",
       "tt2260062                                   1\n",
       "tt6548966                                   1\n",
       "tt3256698,tt0462667,tt0810429,tt0997280     1\n",
       "tt1941564                                   1\n",
       "tt5425194,tt7993422,tt8610856,tt4788726     1\n",
       "tt5300714                                   1\n",
       "tt0389316,tt1759673                         1\n",
       "tt5969074,tt7271954                         1\n",
       "tt5891492,tt2767878,tt1594941,tt3573336     1\n",
       "tt1606229,tt6846750,tt4188034,tt3215804     1\n",
       "tt1653929                                   1\n",
       "tt2826830,tt1848829,tt2417912,tt1545011     1\n",
       "tt5086308,tt4942230,tt9596642,tt8663958     1\n",
       "tt0272207,tt3742100,tt2749296,tt0389327     1\n",
       "tt3231838                                   1\n",
       "tt0183881,tt0089109,tt0090567,tt4317858     1\n",
       "tt1718801,tt0417546,tt8413714,tt2336259     1\n",
       "tt2992618,tt4176748,tt2187674,tt4366462     1\n",
       "tt1493122,tt1830461,tt1830469,tt1830886     1\n",
       "tt0285335,tt9347672,tt0420211               1\n",
       "tt1787988,tt0292490,tt1024943,tt0169102     1\n",
       "tt4103404,tt2062547,tt7446826,tt4552298     1\n",
       "tt8484038,tt6889222,tt7889552,tt8804580     1\n",
       "tt0347017,tt4182762,tt1223917,tt2790236     1\n",
       "tt9015188,tt3307560,tt2782728,tt6133414     1\n",
       "tt9395844                                   1\n",
       "Name: known_for_titles, Length: 482207, dtype: int64"
      ]
     },
     "execution_count": 17,
     "metadata": {},
     "output_type": "execute_result"
    }
   ],
   "source": [
    "imdb_name_basics_df['known_for_titles'].value_counts() #same thing as the primary profession cokumn we will ahve to iterate through the list to examine data"
   ]
  },
  {
   "cell_type": "code",
   "execution_count": null,
   "metadata": {},
   "outputs": [],
   "source": []
  }
 ],
 "metadata": {
  "kernelspec": {
   "display_name": "Python 3",
   "language": "python",
   "name": "python3"
  },
  "language_info": {
   "codemirror_mode": {
    "name": "ipython",
    "version": 3
   },
   "file_extension": ".py",
   "mimetype": "text/x-python",
   "name": "python",
   "nbconvert_exporter": "python",
   "pygments_lexer": "ipython3",
   "version": "3.7.1"
  }
 },
 "nbformat": 4,
 "nbformat_minor": 2
}
